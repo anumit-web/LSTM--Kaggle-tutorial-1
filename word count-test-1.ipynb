{
  "nbformat": 4,
  "nbformat_minor": 0,
  "metadata": {
    "colab": {
      "provenance": [],
      "include_colab_link": true
    },
    "kernelspec": {
      "name": "python3",
      "display_name": "Python 3"
    },
    "language_info": {
      "name": "python"
    }
  },
  "cells": [
    {
      "cell_type": "markdown",
      "metadata": {
        "id": "view-in-github",
        "colab_type": "text"
      },
      "source": [
        "<a href=\"https://colab.research.google.com/github/anumit-web/LSTM--Kaggle-tutorial-1/blob/main/word%20count-test-1.ipynb\" target=\"_parent\"><img src=\"https://colab.research.google.com/assets/colab-badge.svg\" alt=\"Open In Colab\"/></a>"
      ]
    },
    {
      "cell_type": "markdown",
      "source": [
        "Emoji"
      ],
      "metadata": {
        "id": "mMe36vXGktBA"
      }
    },
    {
      "cell_type": "markdown",
      "source": [
        "Generating Emojis in Python"
      ],
      "metadata": {
        "id": "UvnUUNlIliLU"
      }
    },
    {
      "cell_type": "code",
      "source": [
        "pip install emoji --upgrade"
      ],
      "metadata": {
        "colab": {
          "base_uri": "https://localhost:8080/"
        },
        "id": "Q9CBXkFcmc3K",
        "outputId": "d9f69938-4860-49e1-c93b-f2179b855950"
      },
      "execution_count": 106,
      "outputs": [
        {
          "output_type": "stream",
          "name": "stdout",
          "text": [
            "Requirement already satisfied: emoji in /usr/local/lib/python3.10/dist-packages (2.12.1)\n",
            "Requirement already satisfied: typing-extensions>=4.7.0 in /usr/local/lib/python3.10/dist-packages (from emoji) (4.12.2)\n"
          ]
        }
      ]
    },
    {
      "cell_type": "code",
      "source": [
        "import emoji"
      ],
      "metadata": {
        "id": "J67gksLOku6F"
      },
      "execution_count": 107,
      "outputs": []
    },
    {
      "cell_type": "code",
      "source": [
        "# Display emoji using Unicode codepoint\n",
        "chipmunk = emoji.emojize(\"\\U0001F43F\") # Unicode for 🐿\n",
        "print(chipmunk)"
      ],
      "metadata": {
        "colab": {
          "base_uri": "https://localhost:8080/"
        },
        "id": "C0awyKOFlybk",
        "outputId": "be4e68f4-e0e4-40a6-b59b-b5505d5e99ac"
      },
      "execution_count": 108,
      "outputs": [
        {
          "output_type": "stream",
          "name": "stdout",
          "text": [
            "🐿\n"
          ]
        }
      ]
    },
    {
      "cell_type": "code",
      "source": [
        "# Display emoji using shortcodes\n",
        "emoji_text = emoji.emojize(\":orange_heart:\") # Emoji code for 🧡\n",
        "print(emoji_text)"
      ],
      "metadata": {
        "colab": {
          "base_uri": "https://localhost:8080/"
        },
        "id": "O4WyddevnMWf",
        "outputId": "e114623b-093c-45a3-a354-3ad53f0fdb0f"
      },
      "execution_count": 109,
      "outputs": [
        {
          "output_type": "stream",
          "name": "stdout",
          "text": [
            "🧡\n"
          ]
        }
      ]
    },
    {
      "cell_type": "code",
      "source": [
        "# Convert emoji shortcodes into emojis\n",
        "heart_emoji = emoji.emojize(\":red_heart:\")\n",
        "microphone_emoji = emoji.emojize(\":microphone:\")\n",
        "bar_chart_emoji = emoji.emojize(\":bar_chart:\")\n",
        "\n",
        "# Create a sentence with emojis\n",
        "sentence = f\"I {heart_emoji} Taylor Swift {microphone_emoji} and Data Science Discovery {bar_chart_emoji}!\"\n",
        "\n",
        "# Print the sentence with emojis\n",
        "print(sentence)"
      ],
      "metadata": {
        "colab": {
          "base_uri": "https://localhost:8080/"
        },
        "id": "vTrE7y1uph5U",
        "outputId": "eed05330-297e-45a9-9df5-18f42d51d331"
      },
      "execution_count": 110,
      "outputs": [
        {
          "output_type": "stream",
          "name": "stdout",
          "text": [
            "I ❤️ Taylor Swift 🎤 and Data Science Discovery 📊!\n"
          ]
        }
      ]
    }
  ]
}