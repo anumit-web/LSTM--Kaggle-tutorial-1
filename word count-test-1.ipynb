{
  "nbformat": 4,
  "nbformat_minor": 0,
  "metadata": {
    "colab": {
      "provenance": [],
      "include_colab_link": true
    },
    "kernelspec": {
      "name": "python3",
      "display_name": "Python 3"
    },
    "language_info": {
      "name": "python"
    }
  },
  "cells": [
    {
      "cell_type": "markdown",
      "metadata": {
        "id": "view-in-github",
        "colab_type": "text"
      },
      "source": [
        "<a href=\"https://colab.research.google.com/github/anumit-web/LSTM--Kaggle-tutorial-1/blob/main/word%20count-test-1.ipynb\" target=\"_parent\"><img src=\"https://colab.research.google.com/assets/colab-badge.svg\" alt=\"Open In Colab\"/></a>"
      ]
    },
    {
      "cell_type": "markdown",
      "source": [
        "Emoji"
      ],
      "metadata": {
        "id": "mMe36vXGktBA"
      }
    },
    {
      "cell_type": "markdown",
      "source": [
        "Generating Emojis in Python"
      ],
      "metadata": {
        "id": "UvnUUNlIliLU"
      }
    },
    {
      "cell_type": "code",
      "source": [
        "pip install emoji --upgrade"
      ],
      "metadata": {
        "id": "Q9CBXkFcmc3K",
        "outputId": "c3a5bde6-9d56-4744-8209-6f560b09ef37",
        "colab": {
          "base_uri": "https://localhost:8080/"
        }
      },
      "execution_count": 102,
      "outputs": [
        {
          "output_type": "stream",
          "name": "stdout",
          "text": [
            "Requirement already satisfied: emoji in /usr/local/lib/python3.10/dist-packages (2.12.1)\n",
            "Requirement already satisfied: typing-extensions>=4.7.0 in /usr/local/lib/python3.10/dist-packages (from emoji) (4.12.2)\n"
          ]
        }
      ]
    },
    {
      "cell_type": "code",
      "source": [
        "import emoji"
      ],
      "metadata": {
        "id": "J67gksLOku6F"
      },
      "execution_count": 103,
      "outputs": []
    },
    {
      "cell_type": "code",
      "source": [
        "# Display emoji using Unicode codepoint\n",
        "chipmunk = emoji.emojize(\"\\U0001F43F\") # Unicode for 🐿\n",
        "print(chipmunk)"
      ],
      "metadata": {
        "id": "C0awyKOFlybk",
        "outputId": "824efeb3-f506-49a8-9576-fbb6b19ae82e",
        "colab": {
          "base_uri": "https://localhost:8080/"
        }
      },
      "execution_count": 104,
      "outputs": [
        {
          "output_type": "stream",
          "name": "stdout",
          "text": [
            "🐿\n"
          ]
        }
      ]
    },
    {
      "cell_type": "code",
      "source": [
        "# Display emoji using shortcodes\n",
        "emoji_text = emoji.emojize(\":orange_heart:\") # Emoji code for 🧡\n",
        "print(emoji_text)"
      ],
      "metadata": {
        "id": "O4WyddevnMWf",
        "outputId": "84b3a728-4c1f-4c30-861c-af3c8808be90",
        "colab": {
          "base_uri": "https://localhost:8080/"
        }
      },
      "execution_count": 105,
      "outputs": [
        {
          "output_type": "stream",
          "name": "stdout",
          "text": [
            "🧡\n"
          ]
        }
      ]
    }
  ]
}